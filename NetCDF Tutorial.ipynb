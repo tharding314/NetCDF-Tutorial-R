{
 "cells": [
  {
   "cell_type": "markdown",
   "id": "38b4d807",
   "metadata": {
    "tags": []
   },
   "source": [
    "# NetCDF Tutorial\n",
    "#### By: Anthony Harding\n",
    "### This is a tutorial on how to work with netCDF files in R and how to extract information from them using overlaying shapefiles.\n",
    "Network Common Data Form (NetCDF) is a file type for multidimensional data (denoted with \".nc\" file extension). It is commonly used for data in the climate and atmospheric sciences fields. Commonly, netCDF data will have 3 dimensions: latitude, longitude, and time. A primary benefit of netCDF file format over other multidimensional file formats is the ability to store metadata in the file along with the data.<br>\n",
    "In this file I will:<br>\n",
    "&emsp;1) Show how to import a netCDF file in R<br>\n",
    "&emsp;2) Provide information about netCDF files<br>\n",
    "&emsp;3) How to plot spatial data in netCDF<br>\n",
    "&emsp;4) Show how to import a shapefile in R<br>\n",
    "&emsp;5) Show how to extract information from a netCDF file by overlaying shapefiles."
   ]
  },
  {
   "cell_type": "markdown",
   "id": "567bc192-ab29-4eb3-859e-9f302dfb3d38",
   "metadata": {
    "tags": []
   },
   "source": [
    "#### Import packages used and set working directory"
   ]
  },
  {
   "cell_type": "code",
   "execution_count": 8,
   "id": "b2b4e961",
   "metadata": {},
   "outputs": [],
   "source": [
    "library(\"ncdf4\") # Used to read netcdf files\n",
    "library(\"sp\")\n",
    "library(\"rgdal\") # Used to read shapefiles\n",
    "#library(\"raster\") # Used to convert to raster (currently commented out b/c causes notebook crashes)\n",
    "\"%&%\"<-function(x,y)paste(x,y,sep=\"\")"
   ]
  },
  {
   "cell_type": "code",
   "execution_count": 9,
   "id": "e074724b",
   "metadata": {},
   "outputs": [],
   "source": [
    "setwd(\"C:/Users/Tony/OneDrive - Harvard University/Dropbox/Tutorials/NetCDF\") # Adjust to appropriate working directory path"
   ]
  },
  {
   "cell_type": "markdown",
   "id": "afe58be9",
   "metadata": {},
   "source": [
    "### 1) How to import a netCDF file\n",
    "To work with netCDF files in R I use the ncdf4 package. The function ncdf4::nc_open() will read in a netCDF file.<br>\n",
    "Here I read in a netCDF file with global gridded monthly surface air temperatures from UDel (https://psl.noaa.gov/data/gridded/data.UDel_AirT_Precip.html)"
   ]
  },
  {
   "cell_type": "code",
   "execution_count": 10,
   "id": "916353e4-ec7d-48c1-8c77-7db6bd0285ec",
   "metadata": {},
   "outputs": [],
   "source": [
    "nc <- nc_open(\"data/input/air.mon.mean.v501.nc\")"
   ]
  },
  {
   "cell_type": "markdown",
   "id": "17537b4e-2f9f-477b-bb1e-04d7851234a7",
   "metadata": {},
   "source": [
    "### 2) Information about netCDF files\n",
    "A primary benefit of the netCDF format is that it contains metadata describing the data contained in the file. Below are a few examples."
   ]
  },
  {
   "cell_type": "code",
   "execution_count": 11,
   "id": "80bf3e77-0d6a-471a-98c2-1626ab26e6b0",
   "metadata": {},
   "outputs": [
    {
     "name": "stdout",
     "output_type": "stream",
     "text": [
      "[1] \"Filename: data/input/air.mon.mean.v501.nc\"\n",
      "[1] \"Variables: air\"\n",
      "[1] \"# Dims = 3\"\n",
      "[1] \"lat\"  \"lon\"  \"time\"\n",
      "[1] \"Lat units: degrees_north; Lon units: degrees_east; Time units: hours since 1900-1-1 0:0:0\"\n"
     ]
    }
   ],
   "source": [
    "print(\"Filename: \"%&%nc$filename) # Print the filename\n",
    "print(\"Variables: \"%&%names(nc$var)) # Print variables\n",
    "print(\"# Dims = \"%&%nc$ndims) # Print the number of dimensions\n",
    "print(names(nc$dim)) # Print dimension names\n",
    "print(\"Lat units: \"%&%nc$dim$lat$units%&%\"; Lon units: \"%&%nc$dim$lon$units%&%\"; Time units: \"%&%nc$dim$time$units) # Print dimension units"
   ]
  },
  {
   "cell_type": "markdown",
   "id": "19e23538-b7c9-4d3f-9a7a-903afa11daf3",
   "metadata": {},
   "source": [
    "### 3) How to plot spatial netCDF data\n",
    "Often netCDF data contains spatial data as latitude and longitude coordinates. Here I will show how to plot this information by converting to a raster.<br>\n",
    "Rasters are akin to a matrix but allow for a coordinate system. This makes them instrumental in spatial data analysis. <br>\n",
    "Here I use the raster() function to create a raster for the spatial temperature data in June 2010. nc[c(361:720,1:360),1:360,1326] gets the spatial data (first and second elements) for the month of January 2010 (third element). aperm(.,c(2,1)) transposes the data. xmn,xmx,ymn,ymx define the extents of the spatial data. <br>\n",
    "Once the information is converted to a raster, it can be plotted with the plot() function. The rasterToPoints() function can be used to convert raster data into a dataframe with x,y coordinates."
   ]
  },
  {
   "cell_type": "code",
   "execution_count": 4,
   "id": "f80ea65d-6c37-4bc4-98a4-d5b5d4f3f9b1",
   "metadata": {},
   "outputs": [
    {
     "ename": "ERROR",
     "evalue": "Error in raster(aperm(nc[c(361:720, 1:360), 1:360, 1326], c(2, 1)), xmn = -180, : could not find function \"raster\"\n",
     "output_type": "error",
     "traceback": [
      "Error in raster(aperm(nc[c(361:720, 1:360), 1:360, 1326], c(2, 1)), xmn = -180, : could not find function \"raster\"\nTraceback:\n"
     ]
    }
   ],
   "source": [
    "rt_6_2010 <- raster(aperm(nc[c(361:720,1:360),1:360,1326],c(2,1)),xmn=-180,xmx=180,ymn=-90,ymx=90) # Convert spatial data for one month to a raster\n",
    "plot(rt_6_2010)\n",
    "dfrt_6_2010 <- data.frame(rasterToPoints(rt_6_2010))\n",
    "colnames(dfrt_6_2010) <- c(\"x\",\"y\",\"Temperature\")"
   ]
  },
  {
   "cell_type": "markdown",
   "id": "da8140e7-64f4-4e61-8b11-64407600a23e",
   "metadata": {},
   "source": [
    "### 4) How to import shapefile in R\n",
    "Often spatial data in the form of latitude and longitude as given by netCDF files will need to be aggregated so that it can be assigned to a larger spatial object, such as a city, region, or country. This can be done by extracting information using shapefiles. <br>\n",
    "Shapefiles (denoted with \".shp\" file extension) is a vector data format for spatial data. These can describe a variety of objects, such as points, lines, or polygons. As with netCDFs, shapefiles often contain metadata describing the objects contained in the data. <br>\n",
    "There are multiple ways to read shapefiles in R. Here, I use the rgdal::readOGR() function to read in a shapefile containing information about countries, represented by polygons."
   ]
  },
  {
   "cell_type": "code",
   "execution_count": 5,
   "id": "ceb6308c",
   "metadata": {},
   "outputs": [
    {
     "name": "stdout",
     "output_type": "stream",
     "text": [
      "OGR data source with driver: ESRI Shapefile \n",
      "Source: \"C:\\Users\\Tony\\OneDrive - Harvard University\\Dropbox\\Tutorials\\NetCDF\\data\\input\\shape\\country.shp\", layer: \"country\"\n",
      "with 251 features\n",
      "It has 13 fields\n",
      "Integer64 fields read as strings:  POP_CNTRY \n"
     ]
    }
   ],
   "source": [
    "ctybrd <- readOGR('Data/Input/shape/country.shp') # read in shapefile of countries"
   ]
  },
  {
   "cell_type": "markdown",
   "id": "b52d152c-c3ba-4aec-9d21-940076405782",
   "metadata": {},
   "source": [
    "#### We can plot one variable from the data to get an idea of what it looks like.\n",
    "Spatial data can be plotted using the spplot() function."
   ]
  },
  {
   "cell_type": "code",
   "execution_count": 6,
   "id": "15e49aba-4d45-4671-bcf1-354688fdacbc",
   "metadata": {},
   "outputs": [
    {
     "data": {
      "image/png": "[encoded data removed]",
      "text/plain": [
       "plot without title"
      ]
     },
     "metadata": {},
     "output_type": "display_data"
    }
   ],
   "source": [
    "spplot(ctybrd,\"POP_CNTRY\") # Plot population of countries"
   ]
  },
  {
   "cell_type": "markdown",
   "id": "503348d9-a5fd-41e0-861b-9f3d94d51809",
   "metadata": {},
   "source": [
    "### 5) How to aggregate spatial data from netCDF using shapefiles\n",
    "Often spatial data in the form of latitude and longitude as given by netCDF files will need to be aggregated so that it can be assigned to a larger spatial object, such as a city, region, or country. This can be done by extracting information using shapefiles. <br>\n",
    "Here, I provide an example by extracting temperature data for June 2010 and assigning the gridded temperature data to countries. <br>\n",
    "The raster::extract() function can be used to extract data from a raster using shapefile objects. Returned is a list of cell values for contained by the borders of each shapefile object."
   ]
  },
  {
   "cell_type": "code",
   "execution_count": null,
   "id": "746f8e52-c23c-459c-a349-427db67d47de",
   "metadata": {},
   "outputs": [],
   "source": [
    "extt_6_2010 <- extract(rt_6_2010,ctybrd,small=T,progress=\"text\") # Extract rasterized temperatures and assign to countries"
   ]
  },
  {
   "cell_type": "markdown",
   "id": "dc5b682b-3927-4e03-9ddb-3ad2188d631f",
   "metadata": {},
   "source": [
    "We now aggregate the cells for each spatial object (in this case countries) however preferred (eg. sum, average, median). These aggregated values are then converted into a dataframe to be exported or used in an analysis."
   ]
  },
  {
   "cell_type": "code",
   "execution_count": null,
   "id": "43233066-12f7-4cc5-8c7c-0d17ac47c336",
   "metadata": {},
   "outputs": [],
   "source": [
    "t_6_2010_sum <- mapply(sum,tmpext,na.rm=T) # Sum cell values within border\n",
    "t_6_2010_mean <- mapply(mean,tmpext,na.rm=T) # Average cell values within border\n",
    "t_6_2010_median <- mapply(median,tmpext,na.rm=T) # Median cell values within border"
   ]
  },
  {
   "cell_type": "code",
   "execution_count": null,
   "id": "2da9eb76-cb94-419e-8af8-467722312813",
   "metadata": {},
   "outputs": [],
   "source": [
    "dftemp <- data.frame(ctybrd@data[,1:3],t_6_2010_mean)  # Convert country average temperature into dataframe\n",
    "colnames(dftemp) <- c(colnames(ctybrd[1:3]),\"Temperature\")"
   ]
  },
  {
   "cell_type": "markdown",
   "id": "a3e5f964-bbec-4e98-98df-71a3dc244386",
   "metadata": {},
   "source": [
    "We can also append the temperature data to the shapefile to plot it."
   ]
  },
  {
   "cell_type": "code",
   "execution_count": null,
   "id": "bfdbdede-90e5-4e20-ad8a-bbb6b4c270ba",
   "metadata": {},
   "outputs": [],
   "source": [
    "ctybrd@data <- merge(ctybrd@data,dftemp[,c(\"GMI_CNTRY\",\"Temperature\")],by=\"GMI_CNTRY\")\n",
    "spplot(ctybrd,\"Temperature\")"
   ]
  }
 ],
 "metadata": {
  "kernelspec": {
   "display_name": "R",
   "language": "R",
   "name": "ir"
  },
  "language_info": {
   "codemirror_mode": "r",
   "file_extension": ".r",
   "mimetype": "text/x-r-source",
   "name": "R",
   "pygments_lexer": "r",
   "version": "3.6.1"
  }
 },
 "nbformat": 4,
 "nbformat_minor": 5
}
