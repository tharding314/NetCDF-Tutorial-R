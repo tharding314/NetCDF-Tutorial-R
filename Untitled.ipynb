{
 "cells": [
  {
   "cell_type": "markdown",
   "id": "0bd116f3-04b2-40a7-b977-0df3cfbc8020",
   "metadata": {},
   "source": [
    "# PDF Discretization Tutorial\n",
    "#### By: Anthony Harding\n",
    "Last edited 8/19/2021"
   ]
  },
  {
   "cell_type": "markdown",
   "id": "eb95c8dd-03b1-4a15-bb43-13902ef9dd39",
   "metadata": {},
   "source": [
    "### This is a tutorial on how to work with netCDF files in R and how to extract information from them using overlaying shapefiles.\n",
    "Network Common Data Form (NetCDF) is a file type for multidimensional data (denoted with \".nc\" file extension). It is commonly used for data in the climate and atmospheric sciences fields. Commonly, netCDF data will have 3 dimensions: latitude, longitude, and time. A primary benefit of netCDF file format over other multidimensional file formats is the ability to store metadata in the file along with the data.<br>\n",
    "In this file I will:<br>\n",
    "&emsp;1) Show how to import a netCDF file in R<br>\n",
    "&emsp;2) Provide information about netCDF files<br>\n",
    "&emsp;3) How to plot spatial data in netCDF<br>\n",
    "&emsp;4) Show how to import a shapefile in R<br>\n",
    "&emsp;5) Show how to extract information from a netCDF file by overlaying shapefiles."
   ]
  },
  {
   "cell_type": "markdown",
   "id": "b3e487b0-8ec2-4880-9f2d-d549e931c66e",
   "metadata": {},
   "source": [
    "#### Import packages used and set working directory"
   ]
  },
  {
   "cell_type": "code",
   "execution_count": 20,
   "id": "c75b2190-a3e0-4d41-a792-b8ec85f122e0",
   "metadata": {},
   "outputs": [],
   "source": [
    "library(\"ggplot2\") # Used for plotting\n",
    "\"%&%\"<-function(x,y)paste(x,y,sep=\"\")\n",
    "options(repr.plot.width = 3, repr.plot.height = 3) # Makes smaller figures in the notebook"
   ]
  },
  {
   "cell_type": "markdown",
   "id": "456a7d78-686d-4dd6-98c7-6a47c59d2806",
   "metadata": {},
   "source": []
  },
  {
   "cell_type": "code",
   "execution_count": 21,
   "id": "beb63d54-b807-4989-aaed-1f02e41fe8d8",
   "metadata": {},
   "outputs": [
    {
     "data": {
      "image/png": "[encoded data removed]",
      "text/plain": [
       "plot without title"
      ]
     },
     "metadata": {},
     "output_type": "display_data"
    }
   ],
   "source": [
    "x <- seq(-4,4,length=1000)\n",
    "df <- data.frame(\"x\"=x,\"pdf\"=dnorm(x))\n",
    "ggplot(df,aes(x,pdf))+geom_line(size=2)+theme_classic(base_size=15)+xlab(\"x value\")+ylab(\"Density\")"
   ]
  }
 ],
 "metadata": {
  "kernelspec": {
   "display_name": "R",
   "language": "R",
   "name": "ir"
  },
  "language_info": {
   "codemirror_mode": "r",
   "file_extension": ".r",
   "mimetype": "text/x-r-source",
   "name": "R",
   "pygments_lexer": "r",
   "version": "3.6.1"
  }
 },
 "nbformat": 4,
 "nbformat_minor": 5
}
